{
 "cells": [
  {
   "cell_type": "code",
   "execution_count": 6,
   "id": "d9eb316d",
   "metadata": {},
   "outputs": [
    {
     "name": "stdout",
     "output_type": "stream",
     "text": [
      "Model: \"sequential_4\"\n",
      "_________________________________________________________________\n",
      " Layer (type)                Output Shape              Param #   \n",
      "=================================================================\n",
      " dense_12 (Dense)            (None, 64)                896       \n",
      "                                                                 \n",
      " dense_13 (Dense)            (None, 64)                4160      \n",
      "                                                                 \n",
      " dense_14 (Dense)            (None, 1)                 65        \n",
      "                                                                 \n",
      "=================================================================\n",
      "Total params: 5,121\n",
      "Trainable params: 5,121\n",
      "Non-trainable params: 0\n",
      "_________________________________________________________________\n",
      "Epoch 1/5\n",
      "11/11 [==============================] - 0s 14ms/step - loss: 381.1111 - mae: 12.3408 - mse: 381.1111 - val_loss: 86.6532 - val_mae: 7.3321 - val_mse: 86.6532\n",
      "Epoch 2/5\n",
      "11/11 [==============================] - 0s 4ms/step - loss: 80.2226 - mae: 6.5075 - mse: 80.2226 - val_loss: 78.9023 - val_mae: 5.9257 - val_mse: 78.9023\n",
      "Epoch 3/5\n",
      "11/11 [==============================] - 0s 4ms/step - loss: 91.2752 - mae: 7.2639 - mse: 91.2752 - val_loss: 189.5513 - val_mae: 10.7362 - val_mse: 189.5513\n",
      "Epoch 4/5\n",
      "11/11 [==============================] - 0s 3ms/step - loss: 116.7282 - mae: 8.3262 - mse: 116.7282 - val_loss: 98.4747 - val_mae: 8.3303 - val_mse: 98.4747\n",
      "Epoch 5/5\n",
      "11/11 [==============================] - 0s 4ms/step - loss: 100.8758 - mae: 7.6621 - mse: 100.8758 - val_loss: 179.6963 - val_mae: 11.7836 - val_mse: 179.6963\n",
      "4/4 - 0s - loss: 208.6476 - mae: 12.4014 - mse: 208.6476 - 24ms/epoch - 6ms/step\n",
      "4/4 [==============================] - 0s 1ms/step\n"
     ]
    }
   ],
   "source": [
    "import tensorflow as tf\n",
    "from tensorflow import keras\n",
    "from tensorflow.keras import datasets\n",
    "from tensorflow.keras.models import Sequential\n",
    "from tensorflow.keras import Input\n",
    "from tensorflow.keras.layers import Dense\n",
    "\n",
    "boston_housing = datasets.boston_housing\n",
    "(x_train, y_train), (x_test, y_test) = boston_housing.load_data()\n",
    "\n",
    "model = Sequential()\n",
    "model.add(Input(shape=(13,)))\n",
    "model.add(Dense(units=64, activation='relu'))\n",
    "model.add(Dense(units=64, activation='relu'))\n",
    "model.add(Dense(units=1))\n",
    "model.summary()\n",
    "\n",
    "model.compile(optimizer='RMSprop', loss='mse', metrics=['mae', 'mse'])\n",
    "model.fit(x_train, y_train, validation_split=0.2, epochs=5)\n",
    "\n",
    "loss, mae, mse = model.evaluate(x_test, y_test, verbose=2)\n",
    "\n",
    "predictons = model.predict(x_test)"
   ]
  },
  {
   "cell_type": "code",
   "execution_count": 8,
   "id": "6768aafe",
   "metadata": {},
   "outputs": [
    {
     "name": "stdout",
     "output_type": "stream",
     "text": [
      "Model: \"sequential_6\"\n",
      "_________________________________________________________________\n",
      " Layer (type)                Output Shape              Param #   \n",
      "=================================================================\n",
      " flatten_1 (Flatten)         (None, 784)               0         \n",
      "                                                                 \n",
      " dense_17 (Dense)            (None, 128)               100480    \n",
      "                                                                 \n",
      " dense_18 (Dense)            (None, 10)                1290      \n",
      "                                                                 \n",
      "=================================================================\n",
      "Total params: 101,770\n",
      "Trainable params: 101,770\n",
      "Non-trainable params: 0\n",
      "_________________________________________________________________\n"
     ]
    }
   ],
   "source": [
    "import tensorflow as tf\n",
    "from tensorflow import keras\n",
    "from tensorflow.keras import datasets\n",
    "from tensorflow.keras.models import Sequential\n",
    "from tensorflow.keras.layers import Flatten, Dense\n",
    "\n",
    "mnist = datasets.mnist\n",
    "(x_train, y_train), (x_test, y_test) = mnist.load_data()\n",
    "x_train, x_test = x_train / 255, x_test / 255\n",
    "\n",
    "model = Sequential([\n",
    "    Flatten(input_shape=(28, 28)),\n",
    "    Dense(128, activation='relu'),\n",
    "    Dense(10, activation='softmax')\n",
    "])\n",
    "model.summary()"
   ]
  },
  {
   "cell_type": "code",
   "execution_count": 3,
   "id": "c34ad769",
   "metadata": {},
   "outputs": [
    {
     "name": "stdout",
     "output_type": "stream",
     "text": [
      "<keras.layers.preprocessing.string_lookup.StringLookup object at 0x0000017E773EBE50>\n",
      "tf.Tensor(\n",
      "[[0. 0. 0. 1. 0. 0.]\n",
      " [0. 1. 0. 0. 0. 0.]\n",
      " [0. 0. 1. 0. 0. 0.]\n",
      " ...\n",
      " [0. 0. 1. 0. 0. 0.]\n",
      " [0. 0. 1. 0. 0. 0.]\n",
      " [0. 0. 1. 0. 0. 0.]], shape=(303, 6), dtype=float32)\n"
     ]
    }
   ],
   "source": [
    "import tensorflow as tf\n",
    "import pandas as pd\n",
    "from tensorflow.keras.layers.experimental.preprocessing import Normalization\n",
    "from tensorflow.keras.layers.experimental.preprocessing import StringLookup\n",
    "from tensorflow.keras.layers.experimental.preprocessing import CategoryEncoding\n",
    "\n",
    "file_url = 'https://storage.googleapis.com/download.tensorflow.org/data/heart.csv'\n",
    "heart_df=pd.read_csv(file_url)\n",
    "\n",
    "df = heart_df['thal'].to_numpy()\n",
    "layer1 = StringLookup() # 문자값을 정수 인덱스로 매핑\n",
    "layer1.adapt(df)\n",
    "print(layer1)\n",
    "layer2 = CategoryEncoding(num_tokens=6, output_mode=\"one_hot\") #원 핫 인코딩의 형태로 변환\n",
    "layer2_df = layer2(layer1(df))\n",
    "\n",
    "print(layer2_df)"
   ]
  },
  {
   "cell_type": "code",
   "execution_count": 6,
   "id": "4f1b4071",
   "metadata": {},
   "outputs": [
    {
     "data": {
      "text/plain": [
       "0      63\n",
       "1      67\n",
       "2      67\n",
       "3      37\n",
       "4      41\n",
       "       ..\n",
       "298    52\n",
       "299    43\n",
       "300    65\n",
       "301    48\n",
       "302    63\n",
       "Name: age, Length: 303, dtype: int64"
      ]
     },
     "execution_count": 6,
     "metadata": {},
     "output_type": "execute_result"
    }
   ],
   "source": [
    "import tensorflow as tf\n",
    "import pandas as pd\n",
    "from tensorflow.keras.layers.experimental.preprocessing import Normalization\n",
    "from tensorflow.keras.layers.experimental.preprocessing import StringLookup\n",
    "from tensorflow.keras.layers.experimental.preprocessing import CategoryEncoding\n",
    "\n",
    "file_url = 'https://storage.googleapis.com/download.tensorflow.org/data/heart.csv'\n",
    "heart_df=pd.read_csv(file_url)\n",
    "\n",
    "heart_df['age'].value_counts().count()\n",
    "heart_df['age']"
   ]
  },
  {
   "cell_type": "code",
   "execution_count": 9,
   "id": "aacf189b",
   "metadata": {},
   "outputs": [
    {
     "name": "stdout",
     "output_type": "stream",
     "text": [
      "Model: \"sequential_2\"\n",
      "_________________________________________________________________\n",
      " Layer (type)                Output Shape              Param #   \n",
      "=================================================================\n",
      " dense_6 (Dense)             (None, 28, 32)            928       \n",
      "                                                                 \n",
      " dense_7 (Dense)             (None, 28, 16)            528       \n",
      "                                                                 \n",
      " dense_8 (Dense)             (None, 28, 10)            170       \n",
      "                                                                 \n",
      "=================================================================\n",
      "Total params: 1,626\n",
      "Trainable params: 1,626\n",
      "Non-trainable params: 0\n",
      "_________________________________________________________________\n"
     ]
    }
   ],
   "source": [
    "import tensorflow as tf\n",
    "from tensorflow.keras.models import Sequential\n",
    "from tensorflow.keras.layers import Dense\n",
    "from tensorflow.keras import Input\n",
    "\n",
    "model = Sequential()\n",
    "model.add(Input(shape=(28, 28)))\n",
    "model.add(Dense(32, activation='relu'))\n",
    "model.add(Dense(16, activation='relu'))\n",
    "model.add(Dense(10, activation='softmax'))\n",
    "\n",
    "\n",
    "model.summary()"
   ]
  },
  {
   "cell_type": "code",
   "execution_count": 16,
   "id": "7b3ac0c3",
   "metadata": {},
   "outputs": [
    {
     "name": "stdout",
     "output_type": "stream",
     "text": [
      "Model: \"MODEL:Multiple Inputs\"\n",
      "__________________________________________________________________________________________________\n",
      " Layer (type)                   Output Shape         Param #     Connected to                     \n",
      "==================================================================================================\n",
      " input_image (InputLayer)       [(None, 784)]        0           []                               \n",
      "                                                                                                  \n",
      " input_csv (InputLayer)         [(None, 13)]         0           []                               \n",
      "                                                                                                  \n",
      " layer10 (Dense)                (None, 32)           25120       ['input_image[0][0]']            \n",
      "                                                                                                  \n",
      " layer20 (Dense)                (None, 16)           224         ['input_csv[0][0]']              \n",
      "                                                                                                  \n",
      " layer11 (Dense)                (None, 16)           528         ['layer10[0][0]']                \n",
      "                                                                                                  \n",
      " layer21 (Dense)                (None, 8)            136         ['layer20[0][0]']                \n",
      "                                                                                                  \n",
      " output_image (Dense)           (None, 10)           170         ['layer11[0][0]']                \n",
      "                                                                                                  \n",
      " output_csv (Dense)             (None, 1)            9           ['layer21[0][0]']                \n",
      "                                                                                                  \n",
      " layer30 (Concatenate)          (None, 11)           0           ['output_image[0][0]',           \n",
      "                                                                  'output_csv[0][0]']             \n",
      "                                                                                                  \n",
      " output (Dense)                 (None, 8)            96          ['layer30[0][0]']                \n",
      "                                                                                                  \n",
      "==================================================================================================\n",
      "Total params: 26,283\n",
      "Trainable params: 26,283\n",
      "Non-trainable params: 0\n",
      "__________________________________________________________________________________________________\n",
      "You must install pydot (`pip install pydot`) and install graphviz (see instructions at https://graphviz.gitlab.io/download/) for plot_model to work.\n"
     ]
    }
   ],
   "source": [
    "from tensorflow.keras import Model\n",
    "from tensorflow.keras.layers import concatenate\n",
    "from tensorflow.keras.utils import plot_model\n",
    "input_image = Input(shape=(784,), name='input_image')\n",
    "input_csv = Input(shape=(13,), name='input_csv')\n",
    "\n",
    "x1 = Dense(units=32, activation='relu', name='layer10')(input_image)\n",
    "x1 = Dense(units=16, activation='relu', name='layer11')(x1)\n",
    "output_image = Dense(units=10, activation='softmax', name='output_image')(x1)\n",
    "\n",
    "x2 = Dense(units=16, activation='relu', name='layer20')(input_csv)\n",
    "x2 = Dense(units=8, activation='relu', name='layer21')(x2)\n",
    "output_csv = Dense(units=1, activation='sigmoid', name='output_csv')(x2)\n",
    "\n",
    "x3 = concatenate([output_image, output_csv], name='layer30')\n",
    "output = Dense(8, activation='sigmoid', name='output')(x3)\n",
    "\n",
    "model=Model([input_image, input_csv], output, name='MODEL:Multiple Inputs')\n",
    "model.summary()\n",
    "plot_model(model, \"mnist-model.png\", show_shapes=True)"
   ]
  },
  {
   "cell_type": "code",
   "execution_count": 22,
   "id": "18791a8a",
   "metadata": {},
   "outputs": [
    {
     "ename": "AttributeError",
     "evalue": "module 'tensorflow.keras' has no attribute 'model'",
     "output_type": "error",
     "traceback": [
      "\u001b[1;31m---------------------------------------------------------------------------\u001b[0m",
      "\u001b[1;31mAttributeError\u001b[0m                            Traceback (most recent call last)",
      "Cell \u001b[1;32mIn[22], line 3\u001b[0m\n\u001b[0;32m      1\u001b[0m \u001b[39mfrom\u001b[39;00m \u001b[39mtensorflow\u001b[39;00m\u001b[39m.\u001b[39;00m\u001b[39mkeras\u001b[39;00m \u001b[39mimport\u001b[39;00m Model\n\u001b[1;32m----> 3\u001b[0m \u001b[39mclass\u001b[39;00m \u001b[39mMnistModel\u001b[39;00m(tf\u001b[39m.\u001b[39;49mkeras\u001b[39m.\u001b[39;49mmodel):\n\u001b[0;32m      4\u001b[0m     \u001b[39mdef\u001b[39;00m \u001b[39m__init__\u001b[39m(\u001b[39mself\u001b[39m):\n\u001b[0;32m      5\u001b[0m         \u001b[39msuper\u001b[39m(MnistModel, \u001b[39mself\u001b[39m)\u001b[39m.\u001b[39m\u001b[39m__init__\u001b[39m()\n",
      "\u001b[1;31mAttributeError\u001b[0m: module 'tensorflow.keras' has no attribute 'model'"
     ]
    }
   ],
   "source": [
    "from tensorflow.keras import Model\n",
    "\n",
    "class MnistModel(tf.keras.model):\n",
    "    def __init__(self):\n",
    "        super(MnistModel, self).__init__()\n",
    "        self.layers1 = Dense(32, activation='relu')\n",
    "        self.layers2 = Dense(16, activation='relu')        \n",
    "        self.layers3 = Dense(10, activation='softmax')\n",
    "        \n",
    "    def call(self, x):\n",
    "        x = self.layers1(x)\n",
    "        x = self.layers2(x)\n",
    "        x = self.layers3(x)\n",
    "        return x\n",
    "    \n",
    "model = MnistModel()\n",
    "model(Input(shape=(784,)))\n",
    "model.summary()"
   ]
  },
  {
   "cell_type": "code",
   "execution_count": 24,
   "id": "602a2412",
   "metadata": {},
   "outputs": [
    {
     "name": "stdout",
     "output_type": "stream",
     "text": [
      "1875/1875 [==============================] - 2s 1ms/step - loss: 0.3741 - accuracy: 0.8925\n"
     ]
    },
    {
     "data": {
      "text/plain": [
       "<keras.callbacks.History at 0x17e7699e9b0>"
      ]
     },
     "execution_count": 24,
     "metadata": {},
     "output_type": "execute_result"
    }
   ],
   "source": [
    "from tensorflow.keras import datasets\n",
    "from tensorflow.keras.models import Sequential\n",
    "from tensorflow.keras.layers import Flatten, Dense\n",
    "\n",
    "mnist = datasets.mnist\n",
    "(x_train, y_train), (x_test, y_test) = mnist.load_data()\n",
    "x_train, x_test = x_train / 255, x_test/255\n",
    "\n",
    "model = Sequential([\n",
    "    Flatten(input_shape=(28, 28)),\n",
    "    Dense(32, activation='relu'),\n",
    "    Dense(16, activation='relu'),\n",
    "    Dense(10, activation='softmax'),\n",
    "])\n",
    "model.compile(optimizer='adam', loss='sparse_categorical_crossentropy', metrics=['accuracy'])\n",
    "\n",
    "model.fit(x=x_train, y=y_train, epochs=1)"
   ]
  },
  {
   "cell_type": "code",
   "execution_count": 25,
   "id": "94e38809",
   "metadata": {},
   "outputs": [
    {
     "name": "stdout",
     "output_type": "stream",
     "text": [
      "Epoch 1/20\n",
      "48000/48000 [==============================] - 50s 1ms/step - loss: 0.2391 - accuracy: 0.9308 - val_loss: 0.1974 - val_accuracy: 0.9417\n",
      "Epoch 2/20\n",
      "48000/48000 [==============================] - 62s 1ms/step - loss: 0.1730 - accuracy: 0.9496 - val_loss: 0.1637 - val_accuracy: 0.9536\n",
      "Epoch 3/20\n",
      "48000/48000 [==============================] - 62s 1ms/step - loss: 0.1484 - accuracy: 0.9572 - val_loss: 0.1660 - val_accuracy: 0.9547\n",
      "Epoch 4/20\n",
      "48000/48000 [==============================] - 56s 1ms/step - loss: 0.1359 - accuracy: 0.9622 - val_loss: 0.1624 - val_accuracy: 0.9568\n",
      "Epoch 5/20\n",
      "48000/48000 [==============================] - 50s 1ms/step - loss: 0.1265 - accuracy: 0.9634 - val_loss: 0.1576 - val_accuracy: 0.9598\n",
      "Epoch 6/20\n",
      "48000/48000 [==============================] - 59s 1ms/step - loss: 0.1206 - accuracy: 0.9663 - val_loss: 0.1709 - val_accuracy: 0.9561\n",
      "Epoch 7/20\n",
      "48000/48000 [==============================] - 57s 1ms/step - loss: 0.1124 - accuracy: 0.9676 - val_loss: 0.1701 - val_accuracy: 0.9572\n",
      "Epoch 8/20\n",
      "48000/48000 [==============================] - 63s 1ms/step - loss: 0.1093 - accuracy: 0.9696 - val_loss: 0.1905 - val_accuracy: 0.9540\n",
      "Epoch 9/20\n",
      "48000/48000 [==============================] - 140s 3ms/step - loss: 0.1044 - accuracy: 0.9708 - val_loss: 0.2037 - val_accuracy: 0.9520\n",
      "Epoch 10/20\n",
      "48000/48000 [==============================] - 50s 1ms/step - loss: 0.1007 - accuracy: 0.9719 - val_loss: 0.1656 - val_accuracy: 0.9633\n",
      "Epoch 10: early stopping\n"
     ]
    }
   ],
   "source": [
    "from tensorflow.keras.callbacks import EarlyStopping\n",
    "\n",
    "callback_EarlyStopping = EarlyStopping(monitor='val_loss', patience=5, verbose=1)\n",
    "\n",
    "history = model.fit(x_train, y_train, validation_split=0.2, epochs=20, batch_size=1, callbacks=callback_EarlyStopping, verbose=1)\n"
   ]
  },
  {
   "cell_type": "code",
   "execution_count": 29,
   "id": "0d692723",
   "metadata": {},
   "outputs": [
    {
     "ename": "ModuleNotFoundError",
     "evalue": "No module named 'tensorflow_datasets'",
     "output_type": "error",
     "traceback": [
      "\u001b[1;31m---------------------------------------------------------------------------\u001b[0m",
      "\u001b[1;31mModuleNotFoundError\u001b[0m                       Traceback (most recent call last)",
      "Cell \u001b[1;32mIn[29], line 7\u001b[0m\n\u001b[0;32m      5\u001b[0m \u001b[39mfrom\u001b[39;00m \u001b[39mtensorflow\u001b[39;00m\u001b[39m.\u001b[39;00m\u001b[39mkeras\u001b[39;00m\u001b[39m.\u001b[39;00m\u001b[39mlayers\u001b[39;00m \u001b[39mimport\u001b[39;00m Dense\n\u001b[0;32m      6\u001b[0m \u001b[39mimport\u001b[39;00m \u001b[39mpandas\u001b[39;00m \u001b[39mas\u001b[39;00m \u001b[39mpd\u001b[39;00m\n\u001b[1;32m----> 7\u001b[0m \u001b[39mimport\u001b[39;00m \u001b[39mtensorflow_datasets\u001b[39;00m \u001b[39mas\u001b[39;00m \u001b[39mtfds\u001b[39;00m\n\u001b[0;32m      9\u001b[0m ds, info \u001b[39m=\u001b[39m tfds\u001b[39m.\u001b[39mload(\u001b[39m'\u001b[39m\u001b[39mtitanic\u001b[39m\u001b[39m'\u001b[39m, split\u001b[39m=\u001b[39m\u001b[39m'\u001b[39m\u001b[39mtrain\u001b[39m\u001b[39m'\u001b[39m, with_info\u001b[39m=\u001b[39m\u001b[39mTrue\u001b[39;00m)\n\u001b[0;32m     10\u001b[0m \u001b[39mprint\u001b[39m(ds)\n",
      "\u001b[1;31mModuleNotFoundError\u001b[0m: No module named 'tensorflow_datasets'"
     ]
    }
   ],
   "source": [
    "import tensorflow as tf\n",
    "from tensorflow import keras\n",
    "from tensorflow.keras import Input\n",
    "from tensorflow.keras.models import Sequential\n",
    "from tensorflow.keras.layers import Dense\n",
    "import pandas as pd\n",
    "import tensorflow_datasets as tfds\n",
    "\n",
    "ds, info = tfds.load('titanic', split='train', with_info=True)\n",
    "print(ds)"
   ]
  },
  {
   "cell_type": "code",
   "execution_count": 31,
   "id": "07116553",
   "metadata": {},
   "outputs": [
    {
     "data": {
      "text/plain": [
       "array([0, 0, 0, 0, 3, 6, 9])"
      ]
     },
     "execution_count": 31,
     "metadata": {},
     "output_type": "execute_result"
    }
   ],
   "source": [
    "import tensorflow as tf\n",
    "from tensorflow.keras import activations\n",
    "\n",
    "x = tf.constant([-9, -6, -3, 0, 3, 6, 9])\n",
    "activations.relu(x).numpy()\n"
   ]
  },
  {
   "cell_type": "code",
   "execution_count": 38,
   "id": "af42a384",
   "metadata": {},
   "outputs": [
    {
     "name": "stdout",
     "output_type": "stream",
     "text": [
      "      Unnamed: 0  Weight (kg)  Standing Height (cm)  BMI(kg/m**2)\n",
      "0              0         97.1                 160.2          37.8\n",
      "1              1         98.8                 182.3          29.7\n",
      "2              2         74.3                 184.2          21.9\n",
      "3              3        103.7                 185.3          30.2\n",
      "4              4         83.3                 177.1          26.6\n",
      "...          ...          ...                   ...           ...\n",
      "8383        8383         94.3                 178.8          29.5\n",
      "8384        8384         82.8                 147.8          37.9\n",
      "8385        8385        108.8                 168.7          38.2\n",
      "8386        8386         79.5                 176.4          25.5\n",
      "8387        8387         59.7                 167.5          21.3\n",
      "\n",
      "[8388 rows x 4 columns]\n"
     ]
    }
   ],
   "source": []
  }
 ],
 "metadata": {
  "kernelspec": {
   "display_name": "Python 3",
   "language": "python",
   "name": "python3"
  },
  "language_info": {
   "codemirror_mode": {
    "name": "ipython",
    "version": 3
   },
   "file_extension": ".py",
   "mimetype": "text/x-python",
   "name": "python",
   "nbconvert_exporter": "python",
   "pygments_lexer": "ipython3",
   "version": "3.10.7"
  },
  "vscode": {
   "interpreter": {
    "hash": "23f823caeccb1684f6bd50492b68bb5eab208de0408f39b2457c6a38c0e8e818"
   }
  }
 },
 "nbformat": 4,
 "nbformat_minor": 5
}
