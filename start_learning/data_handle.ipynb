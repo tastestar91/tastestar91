{
 "cells": [
  {
   "cell_type": "code",
   "execution_count": 4,
   "id": "d9eb316d",
   "metadata": {},
   "outputs": [
    {
     "name": "stdout",
     "output_type": "stream",
     "text": [
      "[[-0.54545455]\n",
      " [ 0.27272727]\n",
      " [ 1.63636364]\n",
      " [-0.90909091]\n",
      " [ 0.81818182]]\n",
      "[[1. 6. 3.]\n",
      " [4. 5. 3.]\n",
      " [3. 7. 5.]\n",
      " [2. 5. 3.]\n",
      " [8. 5. 1.]]\n"
     ]
    }
   ],
   "source": [
    "#4 데이터 다루기\n",
    "\n",
    "from sklearn.preprocessing import MinMaxScaler\n",
    "import numpy as np\n",
    "\n",
    "X_train = np.array([[1], [23], [15], [22], [7]])\n",
    "X_test = np.array([[6], [15], [30], [2], [21]])\n",
    "\n",
    "scaler = MinMaxScaler(feature_range=(-1, 1))\n",
    "X_train_std = scaler.fit_transform(X_train)\n",
    "X_test_sid = scaler.transform(X_test)\n",
    "\n",
    "print(X_test_sid)\n",
    "\n",
    "# 4.1.2 누락된 값 다루기\n",
    "\n",
    "# 다른 값으로 대체\n",
    "from sklearn.impute import SimpleImputer\n",
    "import numpy as np\n",
    "\n",
    "X = np.array([[1, 6, 3], [4, 5, 3], [3, 7, 5], [2, 5, None], [8, 5, 1]])\n",
    "imputer = SimpleImputer(strategy='median') # 중앙값으로 채움\n",
    "X_imputed = imputer.fit_transform(X)\n",
    "print(X_imputed)"
   ]
  },
  {
   "cell_type": "code",
   "execution_count": 6,
   "id": "9a6b4d49",
   "metadata": {},
   "outputs": [],
   "source": [
    "# 4.2 문자열 데이트\n",
    "\n",
    "# 4.2.1 토큰화 \n",
    "from konlpy.tag import Okt, Kkma\n",
    "okt = Okt()\n",
    "okt_result = okt.morphs('여정은 그 자체로 보상')\n",
    "kkm = Kkma()\n",
    "kkm_result = kkm.morphs('여정은 그 자체로 보상')\n",
    "\n",
    "\n",
    "\n",
    "\n"
   ]
  },
  {
   "cell_type": "code",
   "execution_count": 8,
   "id": "3179eb47",
   "metadata": {},
   "outputs": [
    {
     "name": "stdout",
     "output_type": "stream",
     "text": [
      "[('여정', 'Noun'), ('은', 'Josa'), ('가제', 'Noun'), ('초로', 'Noun'), ('보상', 'Noun'), ('입니다', 'Adjective'), ('.', 'Punctuation')]\n"
     ]
    }
   ],
   "source": [
    "okt = Okt()\n",
    "okt_result = okt.pos('여정은 가제초로 보상입니다.')\n",
    "\n",
    "print(okt_result)"
   ]
  },
  {
   "cell_type": "code",
   "execution_count": 21,
   "id": "ec483bf8",
   "metadata": {},
   "outputs": [
    {
     "name": "stdout",
     "output_type": "stream",
     "text": [
      "텐서플로 출시일은 2015.11.9.입니다\n",
      "2015.11.9.\n",
      "텐서플로의 2버전대는 2019.10.1.에 출시합니다\n",
      "2019.10.1.\n",
      "사이킷런 0.23 버전은 20.5.12.에 출시했습니다.\n",
      "20.5.12.\n"
     ]
    }
   ],
   "source": [
    "# 4.2.2 정규 표현식\n",
    "\n",
    "import re\n",
    "sentences = ['텐서플로 출시일은 2015.11.9.입니다',\n",
    "'텐서플로의 2버전대는 2019.10.1.에 출시합니다',\n",
    "'사이킷런 0.23 버전은 20.5.12.에 출시했습니다.']\n",
    "\n",
    "pattern = re.compile('\\d{2,4}\\.\\d{1,2}\\.\\d{1,2}\\.')\n",
    "\n",
    "for sentence in sentences:\n",
    "    print(sentence)\n",
    "    match = pattern.search(sentence)\n",
    "\n",
    "    print(match.group())"
   ]
  },
  {
   "cell_type": "code",
   "execution_count": null,
   "id": "99be6611",
   "metadata": {},
   "outputs": [],
   "source": [
    "# 4.3 이미지 데이터\n",
    "## 이미지 처리에 가장 인기있는 파이썬 라이브러리 OpenCV\n",
    "\n"
   ]
  }
 ],
 "metadata": {
  "kernelspec": {
   "display_name": "Python 3",
   "language": "python",
   "name": "python3"
  },
  "language_info": {
   "codemirror_mode": {
    "name": "ipython",
    "version": 3
   },
   "file_extension": ".py",
   "mimetype": "text/x-python",
   "name": "python",
   "nbconvert_exporter": "python",
   "pygments_lexer": "ipython3",
   "version": "3.10.7"
  },
  "vscode": {
   "interpreter": {
    "hash": "23f823caeccb1684f6bd50492b68bb5eab208de0408f39b2457c6a38c0e8e818"
   }
  }
 },
 "nbformat": 4,
 "nbformat_minor": 5
}
